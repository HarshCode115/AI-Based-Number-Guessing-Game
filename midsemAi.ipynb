{
  "nbformat": 4,
  "nbformat_minor": 0,
  "metadata": {
    "colab": {
      "provenance": [],
      "authorship_tag": "ABX9TyN6hW+CM6a2XIKI2GzOfO5y",
      "include_colab_link": true
    },
    "kernelspec": {
      "name": "python3",
      "display_name": "Python 3"
    },
    "language_info": {
      "name": "python"
    }
  },
  "cells": [
    {
      "cell_type": "markdown",
      "metadata": {
        "id": "view-in-github",
        "colab_type": "text"
      },
      "source": [
        "<a href=\"https://colab.research.google.com/github/HarshCode115/AI-Based-Number-Guessing-Game/blob/main/midsemAi.ipynb\" target=\"_parent\"><img src=\"https://colab.research.google.com/assets/colab-badge.svg\" alt=\"Open In Colab\"/></a>"
      ]
    },
    {
      "cell_type": "code",
      "execution_count": 1,
      "metadata": {
        "colab": {
          "base_uri": "https://localhost:8080/"
        },
        "id": "P8CjZbkpfrfK",
        "outputId": "6aa81191-5888-43ab-8bb0-eaeec2224781"
      },
      "outputs": [
        {
          "output_type": "stream",
          "name": "stdout",
          "text": [
            "Think of a number between 1 and 100.\n",
            "After each guess, tell me if your number is higher or lower than my guess.\n",
            "\n",
            "My guess is: 50\n",
            "Is your number (h)igher, (l)ower, or is my guess (c)orrect? h\n",
            "\n",
            "My guess is: 75\n",
            "Is your number (h)igher, (l)ower, or is my guess (c)orrect? l\n",
            "\n",
            "My guess is: 62\n",
            "Is your number (h)igher, (l)ower, or is my guess (c)orrect? c\n",
            "\n",
            "I'm glad I was able to guess your number: 62!\n"
          ]
        }
      ],
      "source": [
        "# Function to handle the AI's number guessing game\n",
        "def ai_guess_number():\n",
        "    # Prompt the user to think of a number between 1 and 100\n",
        "    print(\"Think of a number between 1 and 100.\")\n",
        "    print(\"After each guess, tell me if your number is higher or lower than my guess.\")\n",
        "\n",
        "    # Initialize the range of possible numbers\n",
        "    low = 1  # Lower boundary of the range\n",
        "    high = 100  # Upper boundary of the range\n",
        "\n",
        "    # Continue guessing until the correct number is found\n",
        "    while True:\n",
        "        # Calculate the middle number of the current range\n",
        "        # This is the AI's next guess\n",
        "        guess = (low + high) // 2\n",
        "\n",
        "        # Display the AI's guess to the user\n",
        "        print(f\"\\nMy guess is: {guess}\")\n",
        "\n",
        "        # Ask the user for feedback on the guess\n",
        "        response = input(\"Is your number (h)igher, (l)ower, or is my guess (c)orrect? \")\n",
        "\n",
        "        # Adjust the range based on user feedback\n",
        "        if response.lower() == 'h':\n",
        "            # If the number is higher, move the lower boundary up\n",
        "            low = guess + 1\n",
        "        elif response.lower() == 'l':\n",
        "            # If the number is lower, move the upper boundary down\n",
        "            high = guess - 1\n",
        "        elif response.lower() == 'c':\n",
        "            # If the guess is correct, end the game\n",
        "            print(f\"\\nI'm glad I was able to guess your number: {guess}!\")\n",
        "            break\n",
        "        else:\n",
        "            # Handle invalid user input\n",
        "            print(\"Invalid input. Please enter h, l, or c.\")\n",
        "\n",
        "# Main entry point of the program\n",
        "if __name__ == \"__main__\":\n",
        "    # Start the AI's number guessing game\n",
        "    ai_guess_number()\n"
      ]
    }
  ]
}